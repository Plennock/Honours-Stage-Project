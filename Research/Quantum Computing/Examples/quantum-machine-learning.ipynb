{
 "cells": [
  {
   "cell_type": "code",
   "execution_count": 1,
   "id": "9ac54c28",
   "metadata": {
    "_cell_guid": "b1076dfc-b9ad-4769-8c92-a6c4dae69d19",
    "_uuid": "8f2839f25d086af736a60e9eeb907d3b93b6e0e5",
    "papermill": {
     "duration": 30.073848,
     "end_time": "2023-02-21T20:11:52.422417",
     "exception": false,
     "start_time": "2023-02-21T20:11:22.348569",
     "status": "completed"
    },
    "tags": []
   },
   "outputs": [],
   "source": [
    "!pip install qiskit -q"
   ]
  },
  {
   "cell_type": "code",
   "execution_count": 3,
   "id": "90a545ff",
   "metadata": {
    "papermill": {
     "duration": 28.279719,
     "end_time": "2023-02-21T20:12:20.705815",
     "exception": false,
     "start_time": "2023-02-21T20:11:52.426096",
     "status": "completed"
    },
    "tags": []
   },
   "outputs": [
    {
     "name": "stdout",
     "output_type": "stream",
     "text": [
      "Package                      Version\n",
      "---------------------------- ------------\n",
      "absl-py                      2.0.0\n",
      "anyio                        4.0.0\n",
      "argon2-cffi                  23.1.0\n",
      "argon2-cffi-bindings         21.2.0\n",
      "arrow                        1.2.3\n",
      "asttokens                    2.4.0\n",
      "astunparse                   1.6.3\n",
      "async-lru                    2.0.4\n",
      "attrs                        23.1.0\n",
      "Babel                        2.12.1\n",
      "backcall                     0.2.0\n",
      "beautifulsoup4               4.12.2\n",
      "bleach                       6.0.0\n",
      "cachetools                   5.3.2\n",
      "certifi                      2023.7.22\n",
      "cffi                         1.16.0\n",
      "charset-normalizer           3.2.0\n",
      "colorama                     0.4.6\n",
      "comm                         0.1.4\n",
      "contourpy                    1.1.1\n",
      "cycler                       0.12.0\n",
      "debugpy                      1.8.0\n",
      "decorator                    5.1.1\n",
      "defusedxml                   0.7.1\n",
      "dill                         0.3.9\n",
      "executing                    1.2.0\n",
      "fastdtw                      0.3.4\n",
      "fastjsonschema               2.18.0\n",
      "flatbuffers                  24.3.25\n",
      "fonttools                    4.43.0\n",
      "fqdn                         1.5.1\n",
      "gast                         0.4.0\n",
      "google-auth                  2.25.2\n",
      "google-auth-oauthlib         1.0.0\n",
      "google-pasta                 0.2.0\n",
      "grpcio                       1.60.0\n",
      "h5py                         3.10.0\n",
      "idna                         3.4\n",
      "ipykernel                    6.25.2\n",
      "ipython                      8.16.0\n",
      "ipython-genutils             0.2.0\n",
      "ipywidgets                   8.1.1\n",
      "isoduration                  20.11.0\n",
      "jedi                         0.19.0\n",
      "Jinja2                       3.1.2\n",
      "joblib                       1.3.2\n",
      "json5                        0.9.14\n",
      "jsonpointer                  2.4\n",
      "jsonschema                   4.19.1\n",
      "jsonschema-specifications    2023.7.1\n",
      "jupyter                      1.0.0\n",
      "jupyter_client               8.3.1\n",
      "jupyter-console              6.6.3\n",
      "jupyter_core                 5.3.2\n",
      "jupyter-events               0.7.0\n",
      "jupyter-lsp                  2.2.0\n",
      "jupyter_server               2.7.3\n",
      "jupyter_server_terminals     0.4.4\n",
      "jupyterlab                   4.0.6\n",
      "jupyterlab-pygments          0.2.2\n",
      "jupyterlab_server            2.25.0\n",
      "jupyterlab-widgets           3.0.9\n",
      "keras                        2.15.0\n",
      "kiwisolver                   1.4.5\n",
      "lab                          7.4\n",
      "libclang                     16.0.6\n",
      "Markdown                     3.5\n",
      "markdown-it-py               3.0.0\n",
      "MarkupSafe                   2.1.3\n",
      "matplotlib                   3.8.0\n",
      "matplotlib-inline            0.1.6\n",
      "mdurl                        0.1.2\n",
      "mistune                      3.0.1\n",
      "ml-dtypes                    0.2.0\n",
      "mpmath                       1.3.0\n",
      "namex                        0.0.8\n",
      "nbclient                     0.7.4\n",
      "nbconvert                    7.8.0\n",
      "nbformat                     5.9.2\n",
      "nest-asyncio                 1.5.8\n",
      "notebook                     7.0.4\n",
      "notebook_shim                0.2.3\n",
      "numpy                        1.24.3\n",
      "oauthlib                     3.2.2\n",
      "opencv-python                4.10.0.84\n",
      "opt-einsum                   3.3.0\n",
      "optree                       0.12.1\n",
      "overrides                    7.4.0\n",
      "packaging                    24.1\n",
      "pandas                       2.1.2\n",
      "pandocfilters                1.5.0\n",
      "parso                        0.8.3\n",
      "pbr                          6.1.0\n",
      "pickleshare                  0.7.5\n",
      "Pillow                       10.0.1\n",
      "pip                          24.3.1\n",
      "pipdeptree                   2.23.4\n",
      "platformdirs                 3.10.0\n",
      "ply                          3.11\n",
      "prometheus-client            0.17.1\n",
      "prompt-toolkit               3.0.39\n",
      "protobuf                     4.23.4\n",
      "psutil                       5.9.5\n",
      "pure-eval                    0.2.2\n",
      "pyasn1                       0.5.0\n",
      "pyasn1-modules               0.3.0\n",
      "pycparser                    2.21\n",
      "Pygments                     2.16.1\n",
      "pyparsing                    3.1.1\n",
      "python-dateutil              2.8.2\n",
      "python-json-logger           2.0.7\n",
      "pytz                         2023.3.post1\n",
      "pywin32                      306\n",
      "pywinpty                     2.0.11\n",
      "PyYAML                       6.0.1\n",
      "pyzmq                        25.1.1\n",
      "qiskit                       1.2.4\n",
      "qtconsole                    5.4.4\n",
      "QtPy                         2.4.0\n",
      "referencing                  0.30.2\n",
      "requests                     2.31.0\n",
      "requests-oauthlib            1.3.1\n",
      "rfc3339-validator            0.1.4\n",
      "rfc3986-validator            0.1.1\n",
      "rich                         13.8.1\n",
      "rpds-py                      0.10.3\n",
      "rsa                          4.9\n",
      "rustworkx                    0.15.1\n",
      "scikit-learn                 1.3.2\n",
      "scipy                        1.11.4\n",
      "seaborn                      0.13.0\n",
      "Send2Trash                   1.8.2\n",
      "setuptools                   75.2.0\n",
      "simplejson                   3.19.1\n",
      "six                          1.16.0\n",
      "sklearn                      0.0.post11\n",
      "sniffio                      1.3.0\n",
      "soupsieve                    2.5\n",
      "spm1d                        0.4.33\n",
      "stack-data                   0.6.2\n",
      "stevedore                    5.3.0\n",
      "symengine                    0.13.0\n",
      "sympy                        1.13.3\n",
      "tensorboard                  2.15.2\n",
      "tensorboard-data-server      0.7.1\n",
      "tensorflow                   2.15.0\n",
      "tensorflow-estimator         2.15.0\n",
      "tensorflow-intel             2.15.0\n",
      "tensorflow-io-gcs-filesystem 0.31.0\n",
      "termcolor                    2.3.0\n",
      "terminado                    0.17.1\n",
      "threadpoolctl                3.2.0\n",
      "tinycss2                     1.2.1\n",
      "tornado                      6.3.3\n",
      "traitlets                    5.10.1\n",
      "txt2tags                     3.8\n",
      "typing_extensions            4.5.0\n",
      "tzdata                       2023.3\n",
      "uri-template                 1.3.0\n",
      "urllib3                      2.0.5\n",
      "voila                        0.5.4\n",
      "wcwidth                      0.2.7\n",
      "webcolors                    1.13\n",
      "webencodings                 0.5.1\n",
      "websocket-client             1.6.3\n",
      "websockets                   11.0.3\n",
      "Werkzeug                     3.0.0\n",
      "wheel                        0.41.2\n",
      "widgetsnbextension           4.0.9\n",
      "wrapt                        1.14.1\n",
      "xlrd                         2.0.1\n"
     ]
    }
   ],
   "source": [
    "!pip install qiskit[machine-learning] -q"
   ]
  },
  {
   "cell_type": "code",
   "execution_count": 3,
   "id": "b3a01967",
   "metadata": {
    "execution": {
     "iopub.execute_input": "2023-02-21T20:12:20.714662Z",
     "iopub.status.busy": "2023-02-21T20:12:20.714254Z",
     "iopub.status.idle": "2023-02-21T20:12:22.482855Z",
     "shell.execute_reply": "2023-02-21T20:12:22.481544Z"
    },
    "papermill": {
     "duration": 1.776247,
     "end_time": "2023-02-21T20:12:22.485731",
     "exception": false,
     "start_time": "2023-02-21T20:12:20.709484",
     "status": "completed"
    },
    "tags": []
   },
   "outputs": [],
   "source": [
    "import matplotlib.pyplot as plt\n",
    "import numpy as np\n",
    "\n",
    "from sklearn.svm import SVC\n",
    "from sklearn.cluster import SpectralClustering\n",
    "from sklearn.metrics import normalized_mutual_info_score\n",
    "\n",
    "from qiskit import BasicAer\n",
    "from qiskit.algorithms.state_fidelities import ComputeUncompute\n",
    "from qiskit.circuit.library import ZZFeatureMap\n",
    "from qiskit.primitives import Sampler\n",
    "from qiskit.utils import algorithm_globals\n",
    "from qiskit_machine_learning.algorithms import QSVC\n",
    "from qiskit_machine_learning.kernels import FidelityQuantumKernel\n",
    "from qiskit_machine_learning.datasets import ad_hoc_data\n",
    "\n",
    "seed = 12345\n",
    "algorithm_globals.random_seed = seed"
   ]
  },
  {
   "cell_type": "code",
   "execution_count": 4,
   "id": "be6b2cff",
   "metadata": {
    "execution": {
     "iopub.execute_input": "2023-02-21T20:12:22.494580Z",
     "iopub.status.busy": "2023-02-21T20:12:22.493874Z",
     "iopub.status.idle": "2023-02-21T20:12:23.418032Z",
     "shell.execute_reply": "2023-02-21T20:12:23.416835Z"
    },
    "papermill": {
     "duration": 0.931718,
     "end_time": "2023-02-21T20:12:23.421017",
     "exception": false,
     "start_time": "2023-02-21T20:12:22.489299",
     "status": "completed"
    },
    "tags": []
   },
   "outputs": [
    {
     "data": {
      "image/png": "[encoded data removed]",
      "text/plain": [
       "<Figure size 500x500 with 1 Axes>"
      ]
     },
     "metadata": {},
     "output_type": "display_data"
    }
   ],
   "source": [
    "adhoc_dimension = 2\n",
    "train_features, train_labels, test_features, test_labels, adhoc_total = ad_hoc_data(\n",
    "    training_size=20,\n",
    "    test_size=5,\n",
    "    n=adhoc_dimension,\n",
    "    gap=0.3,\n",
    "    plot_data=False,\n",
    "    one_hot=False,\n",
    "    include_sample_total=True,\n",
    ")\n",
    "\n",
    "plt.figure(figsize=(5, 5))\n",
    "plt.ylim(0, 2 * np.pi)\n",
    "plt.xlim(0, 2 * np.pi)\n",
    "plt.imshow(\n",
    "    np.asmatrix(adhoc_total).T,\n",
    "    interpolation=\"nearest\",\n",
    "    origin=\"lower\",\n",
    "    cmap=\"RdBu\",\n",
    "    extent=[0, 2 * np.pi, 0, 2 * np.pi],\n",
    ")\n",
    "\n",
    "plt.scatter(\n",
    "    train_features[np.where(train_labels[:] == 0), 0],\n",
    "    train_features[np.where(train_labels[:] == 0), 1],\n",
    "    marker=\"s\",\n",
    "    facecolors=\"w\",\n",
    "    edgecolors=\"b\",\n",
    "    label=\"A train\",\n",
    ")\n",
    "plt.scatter(\n",
    "    train_features[np.where(train_labels[:] == 1), 0],\n",
    "    train_features[np.where(train_labels[:] == 1), 1],\n",
    "    marker=\"o\",\n",
    "    facecolors=\"w\",\n",
    "    edgecolors=\"r\",\n",
    "    label=\"B train\",\n",
    ")\n",
    "plt.scatter(\n",
    "    test_features[np.where(test_labels[:] == 0), 0],\n",
    "    test_features[np.where(test_labels[:] == 0), 1],\n",
    "    marker=\"s\",\n",
    "    facecolors=\"b\",\n",
    "    edgecolors=\"w\",\n",
    "    label=\"A test\",\n",
    ")\n",
    "plt.scatter(\n",
    "    test_features[np.where(test_labels[:] == 1), 0],\n",
    "    test_features[np.where(test_labels[:] == 1), 1],\n",
    "    marker=\"o\",\n",
    "    facecolors=\"r\",\n",
    "    edgecolors=\"w\",\n",
    "    label=\"B test\",\n",
    ")\n",
    "\n",
    "plt.legend(bbox_to_anchor=(1.05, 1), loc=\"upper left\", borderaxespad=0.0)\n",
    "plt.title(\"Ad hoc dataset for classification\")\n",
    "\n",
    "plt.show()"
   ]
  },
  {
   "cell_type": "code",
   "execution_count": 5,
   "id": "2454a205",
   "metadata": {
    "execution": {
     "iopub.execute_input": "2023-02-21T20:12:23.430392Z",
     "iopub.status.busy": "2023-02-21T20:12:23.429996Z",
     "iopub.status.idle": "2023-02-21T20:12:23.443549Z",
     "shell.execute_reply": "2023-02-21T20:12:23.442362Z"
    },
    "papermill": {
     "duration": 0.020872,
     "end_time": "2023-02-21T20:12:23.445817",
     "exception": false,
     "start_time": "2023-02-21T20:12:23.424945",
     "status": "completed"
    },
    "tags": []
   },
   "outputs": [],
   "source": [
    "adhoc_feature_map = ZZFeatureMap(feature_dimension=adhoc_dimension, reps=2, entanglement=\"linear\")\n",
    "sampler = Sampler()\n",
    "fidelity = ComputeUncompute(sampler=sampler)\n",
    "adhoc_kernel = FidelityQuantumKernel(fidelity=fidelity, feature_map=adhoc_feature_map)"
   ]
  },
  {
   "cell_type": "code",
   "execution_count": 6,
   "id": "f47b1bc8",
   "metadata": {
    "execution": {
     "iopub.execute_input": "2023-02-21T20:12:23.455672Z",
     "iopub.status.busy": "2023-02-21T20:12:23.454834Z",
     "iopub.status.idle": "2023-02-21T20:12:29.402799Z",
     "shell.execute_reply": "2023-02-21T20:12:29.400941Z"
    },
    "papermill": {
     "duration": 5.955628,
     "end_time": "2023-02-21T20:12:29.405458",
     "exception": false,
     "start_time": "2023-02-21T20:12:23.449830",
     "status": "completed"
    },
    "tags": []
   },
   "outputs": [
    {
     "name": "stdout",
     "output_type": "stream",
     "text": [
      "Callable kernel classification test score: 1.0\n"
     ]
    }
   ],
   "source": [
    "adhoc_svc = SVC(kernel=adhoc_kernel.evaluate)\n",
    "adhoc_svc.fit(train_features, train_labels)\n",
    "adhoc_score = adhoc_svc.score(test_features, test_labels)\n",
    "\n",
    "print(f\"Callable kernel classification test score: {adhoc_score}\")"
   ]
  },
  {
   "cell_type": "code",
   "execution_count": 7,
   "id": "ad1df8ad",
   "metadata": {
    "execution": {
     "iopub.execute_input": "2023-02-21T20:12:29.415705Z",
     "iopub.status.busy": "2023-02-21T20:12:29.415321Z",
     "iopub.status.idle": "2023-02-21T20:12:35.450429Z",
     "shell.execute_reply": "2023-02-21T20:12:35.449329Z"
    },
    "papermill": {
     "duration": 6.043969,
     "end_time": "2023-02-21T20:12:35.453610",
     "exception": false,
     "start_time": "2023-02-21T20:12:29.409641",
     "status": "completed"
    },
    "tags": []
   },
   "outputs": [
    {
     "data": {
      "image/png": "[encoded data removed]",
      "text/plain": [
       "<Figure size 1000x500 with 2 Axes>"
      ]
     },
     "metadata": {},
     "output_type": "display_data"
    },
    {
     "name": "stdout",
     "output_type": "stream",
     "text": [
      "Precomputed kernel classification test score: 1.0\n"
     ]
    }
   ],
   "source": [
    "adhoc_matrix_train = adhoc_kernel.evaluate(x_vec=train_features)\n",
    "adhoc_matrix_test = adhoc_kernel.evaluate(x_vec=test_features, y_vec=train_features)\n",
    "\n",
    "fig, axs = plt.subplots(1, 2, figsize=(10, 5))\n",
    "axs[0].imshow(\n",
    "    np.asmatrix(adhoc_matrix_train), interpolation=\"nearest\", origin=\"upper\", cmap=\"Blues\"\n",
    ")\n",
    "axs[0].set_title(\"Ad hoc training kernel matrix\")\n",
    "axs[1].imshow(np.asmatrix(adhoc_matrix_test), interpolation=\"nearest\", origin=\"upper\", cmap=\"Reds\")\n",
    "axs[1].set_title(\"Ad hoc testing kernel matrix\")\n",
    "plt.show()\n",
    "\n",
    "adhoc_svc = SVC(kernel=\"precomputed\")\n",
    "adhoc_svc.fit(adhoc_matrix_train, train_labels)\n",
    "adhoc_score = adhoc_svc.score(adhoc_matrix_test, test_labels)\n",
    "\n",
    "print(f\"Precomputed kernel classification test score: {adhoc_score}\")"
   ]
  },
  {
   "cell_type": "code",
   "execution_count": 8,
   "id": "896caa2d",
   "metadata": {
    "execution": {
     "iopub.execute_input": "2023-02-21T20:12:35.464683Z",
     "iopub.status.busy": "2023-02-21T20:12:35.464258Z",
     "iopub.status.idle": "2023-02-21T20:12:41.276514Z",
     "shell.execute_reply": "2023-02-21T20:12:41.275171Z"
    },
    "papermill": {
     "duration": 5.820852,
     "end_time": "2023-02-21T20:12:41.279173",
     "exception": false,
     "start_time": "2023-02-21T20:12:35.458321",
     "status": "completed"
    },
    "tags": []
   },
   "outputs": [
    {
     "name": "stdout",
     "output_type": "stream",
     "text": [
      "QSVC classification test score: 1.0\n"
     ]
    }
   ],
   "source": [
    "qsvc = QSVC(quantum_kernel=adhoc_kernel)\n",
    "qsvc.fit(train_features, train_labels)\n",
    "qsvc_score = qsvc.score(test_features, test_labels)\n",
    "\n",
    "print(f\"QSVC classification test score: {qsvc_score}\")"
   ]
  },
  {
   "cell_type": "code",
   "execution_count": null,
   "id": "6c6d0809",
   "metadata": {
    "papermill": {
     "duration": 0.004436,
     "end_time": "2023-02-21T20:12:41.288751",
     "exception": false,
     "start_time": "2023-02-21T20:12:41.284315",
     "status": "completed"
    },
    "tags": []
   },
   "outputs": [],
   "source": []
  }
 ],
 "metadata": {
  "kernelspec": {
   "display_name": "Python 3 (ipykernel)",
   "language": "python",
   "name": "python3"
  },
  "language_info": {
   "codemirror_mode": {
    "name": "ipython",
    "version": 3
   },
   "file_extension": ".py",
   "mimetype": "text/x-python",
   "name": "python",
   "nbconvert_exporter": "python",
   "pygments_lexer": "ipython3",
   "version": "3.11.9"
  },
  "papermill": {
   "default_parameters": {},
   "duration": 88.39559,
   "end_time": "2023-02-21T20:12:42.216928",
   "environment_variables": {},
   "exception": null,
   "input_path": "__notebook__.ipynb",
   "output_path": "__notebook__.ipynb",
   "parameters": {},
   "start_time": "2023-02-21T20:11:13.821338",
   "version": "2.3.4"
  }
 },
 "nbformat": 4,
 "nbformat_minor": 5
}
