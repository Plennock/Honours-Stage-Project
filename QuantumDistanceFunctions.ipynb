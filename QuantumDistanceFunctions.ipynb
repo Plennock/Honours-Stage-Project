{
 "cells": [
  {
   "cell_type": "code",
   "execution_count": null,
   "id": "c68f63ee-2186-41a1-a6ff-70eda741211c",
   "metadata": {},
   "outputs": [],
   "source": [
    "import numpy as np"
   ]
  },
  {
   "cell_type": "code",
   "execution_count": null,
   "id": "16edbe38-c336-4279-846a-e4c3053cadb9",
   "metadata": {},
   "outputs": [],
   "source": [
    "def trace_distance(prob_dist_1, prob_dist_2):\n",
    "    prob_dist_1 = np.array(prob_dist_1)\n",
    "    prob_dist_2 = np.array(prob_dist_2)\n",
    "\n",
    "    if prob_dist_1.shape != prob_dist_2.shape:\n",
    "        raise ValueError(\"The two probability distributions must have the same shape.\")\n",
    "    \n",
    "    trace_dist = 0.5 * np.sum(np.abs(prob_dist_1 - prob_dist_2))\n",
    "    \n",
    "    return trace_dist"
   ]
  },
  {
   "cell_type": "code",
   "execution_count": null,
   "id": "4acabd4f-eb4d-4454-bc06-db7250579669",
   "metadata": {},
   "outputs": [],
   "source": [
    "def fidelity(rho1, rho2):\n",
    "    if isinstance(rho1, DensityMatrix):\n",
    "        rho1 = rho1.data\n",
    "    if isinstance(rho2, DensityMatrix):\n",
    "        rho2 = rho2.data\n",
    "\n",
    "    if rho1.shape != rho2.shape:\n",
    "        raise ValueError(\"The two density matrices must have the same shape.\")\n",
    "\n",
    "    sqrt_rho1 = np.linalg.cholesky(rho1 + 1e-10 * np.eye(rho1.shape[0])) \n",
    "    intermediate = sqrt_rho1 @ rho2 @ sqrt_rho1\n",
    "    sqrt_intermediate = np.linalg.sqrtm(intermediate)\n",
    "    fidelity_value = np.real(np.trace(sqrt_intermediate)) ** 2\n",
    "\n",
    "    return fidelity_value"
   ]
  },
  {
   "cell_type": "code",
   "execution_count": null,
   "id": "3f7c0ee5-055a-4da3-8e88-cf2c9516eafe",
   "metadata": {},
   "outputs": [],
   "source": [
    "def bures_distance(rho1, rho2):\n",
    "    if isinstance(rho1, DensityMatrix):\n",
    "        rho1 = rho1.data\n",
    "    if isinstance(rho2, DensityMatrix):\n",
    "        rho2 = rho2.data\n",
    "\n",
    "    if rho1.shape != rho2.shape:\n",
    "        raise ValueError(\"The two density matrices must have the same shape.\")\n",
    "\n",
    "    sqrt_rho1 = np.linalg.cholesky(rho1 + 1e-10 * np.eye(rho1.shape[0]))  # Add small noise for stability\n",
    "    intermediate = sqrt_rho1 @ rho2 @ sqrt_rho1\n",
    "    sqrt_intermediate = np.linalg.sqrtm(intermediate)\n",
    "    fidelity_value = np.real(np.trace(sqrt_intermediate)) ** 2\n",
    "    bures_dist = np.sqrt(2 * (1 - np.sqrt(fidelity_value)))\n",
    "\n",
    "    return bures_dist"
   ]
  },
  {
   "cell_type": "code",
   "execution_count": null,
   "id": "bdb95b74-661b-49ae-985c-bfa140c868de",
   "metadata": {},
   "outputs": [],
   "source": []
  }
 ],
 "metadata": {
  "kernelspec": {
   "display_name": "Python 3 (ipykernel)",
   "language": "python",
   "name": "python3"
  },
  "language_info": {
   "codemirror_mode": {
    "name": "ipython",
    "version": 3
   },
   "file_extension": ".py",
   "mimetype": "text/x-python",
   "name": "python",
   "nbconvert_exporter": "python",
   "pygments_lexer": "ipython3",
   "version": "3.11.9"
  }
 },
 "nbformat": 4,
 "nbformat_minor": 5
}
